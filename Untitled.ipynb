{
 "cells": [
  {
   "cell_type": "code",
   "execution_count": 1,
   "metadata": {},
   "outputs": [
    {
     "name": "stderr",
     "output_type": "stream",
     "text": [
      "C:\\Users\\hbpva\\Anaconda3\\lib\\site-packages\\tensorflow\\python\\framework\\dtypes.py:516: FutureWarning: Passing (type, 1) or '1type' as a synonym of type is deprecated; in a future version of numpy, it will be understood as (type, (1,)) / '(1,)type'.\n",
      "  _np_qint8 = np.dtype([(\"qint8\", np.int8, 1)])\n",
      "C:\\Users\\hbpva\\Anaconda3\\lib\\site-packages\\tensorflow\\python\\framework\\dtypes.py:517: FutureWarning: Passing (type, 1) or '1type' as a synonym of type is deprecated; in a future version of numpy, it will be understood as (type, (1,)) / '(1,)type'.\n",
      "  _np_quint8 = np.dtype([(\"quint8\", np.uint8, 1)])\n",
      "C:\\Users\\hbpva\\Anaconda3\\lib\\site-packages\\tensorflow\\python\\framework\\dtypes.py:518: FutureWarning: Passing (type, 1) or '1type' as a synonym of type is deprecated; in a future version of numpy, it will be understood as (type, (1,)) / '(1,)type'.\n",
      "  _np_qint16 = np.dtype([(\"qint16\", np.int16, 1)])\n",
      "C:\\Users\\hbpva\\Anaconda3\\lib\\site-packages\\tensorflow\\python\\framework\\dtypes.py:519: FutureWarning: Passing (type, 1) or '1type' as a synonym of type is deprecated; in a future version of numpy, it will be understood as (type, (1,)) / '(1,)type'.\n",
      "  _np_quint16 = np.dtype([(\"quint16\", np.uint16, 1)])\n",
      "C:\\Users\\hbpva\\Anaconda3\\lib\\site-packages\\tensorflow\\python\\framework\\dtypes.py:520: FutureWarning: Passing (type, 1) or '1type' as a synonym of type is deprecated; in a future version of numpy, it will be understood as (type, (1,)) / '(1,)type'.\n",
      "  _np_qint32 = np.dtype([(\"qint32\", np.int32, 1)])\n",
      "C:\\Users\\hbpva\\Anaconda3\\lib\\site-packages\\tensorflow\\python\\framework\\dtypes.py:525: FutureWarning: Passing (type, 1) or '1type' as a synonym of type is deprecated; in a future version of numpy, it will be understood as (type, (1,)) / '(1,)type'.\n",
      "  np_resource = np.dtype([(\"resource\", np.ubyte, 1)])\n",
      "C:\\Users\\hbpva\\Anaconda3\\lib\\site-packages\\tensorboard\\compat\\tensorflow_stub\\dtypes.py:541: FutureWarning: Passing (type, 1) or '1type' as a synonym of type is deprecated; in a future version of numpy, it will be understood as (type, (1,)) / '(1,)type'.\n",
      "  _np_qint8 = np.dtype([(\"qint8\", np.int8, 1)])\n",
      "C:\\Users\\hbpva\\Anaconda3\\lib\\site-packages\\tensorboard\\compat\\tensorflow_stub\\dtypes.py:542: FutureWarning: Passing (type, 1) or '1type' as a synonym of type is deprecated; in a future version of numpy, it will be understood as (type, (1,)) / '(1,)type'.\n",
      "  _np_quint8 = np.dtype([(\"quint8\", np.uint8, 1)])\n",
      "C:\\Users\\hbpva\\Anaconda3\\lib\\site-packages\\tensorboard\\compat\\tensorflow_stub\\dtypes.py:543: FutureWarning: Passing (type, 1) or '1type' as a synonym of type is deprecated; in a future version of numpy, it will be understood as (type, (1,)) / '(1,)type'.\n",
      "  _np_qint16 = np.dtype([(\"qint16\", np.int16, 1)])\n",
      "C:\\Users\\hbpva\\Anaconda3\\lib\\site-packages\\tensorboard\\compat\\tensorflow_stub\\dtypes.py:544: FutureWarning: Passing (type, 1) or '1type' as a synonym of type is deprecated; in a future version of numpy, it will be understood as (type, (1,)) / '(1,)type'.\n",
      "  _np_quint16 = np.dtype([(\"quint16\", np.uint16, 1)])\n",
      "C:\\Users\\hbpva\\Anaconda3\\lib\\site-packages\\tensorboard\\compat\\tensorflow_stub\\dtypes.py:545: FutureWarning: Passing (type, 1) or '1type' as a synonym of type is deprecated; in a future version of numpy, it will be understood as (type, (1,)) / '(1,)type'.\n",
      "  _np_qint32 = np.dtype([(\"qint32\", np.int32, 1)])\n",
      "C:\\Users\\hbpva\\Anaconda3\\lib\\site-packages\\tensorboard\\compat\\tensorflow_stub\\dtypes.py:550: FutureWarning: Passing (type, 1) or '1type' as a synonym of type is deprecated; in a future version of numpy, it will be understood as (type, (1,)) / '(1,)type'.\n",
      "  np_resource = np.dtype([(\"resource\", np.ubyte, 1)])\n"
     ]
    }
   ],
   "source": [
    "import projector\n",
    "import numpy as np\n",
    "import dnnlib\n",
    "from dnnlib import tflib\n",
    "import pickle\n",
    "import tensorflow as tf\n",
    "import PIL\n",
    "import os\n",
    "import tqdm"
   ]
  },
  {
   "cell_type": "code",
   "execution_count": 2,
   "metadata": {},
   "outputs": [],
   "source": [
    "network_pkl = \"https://nvlabs-fi-cdn.nvidia.com/stylegan2-ada/pretrained/ffhq.pkl\""
   ]
  },
  {
   "cell_type": "code",
   "execution_count": 3,
   "metadata": {},
   "outputs": [],
   "source": [
    "def project(network_pkl: str, target_fname: str, outdir: str, save_video: bool, seed: int):\n",
    "    # Load networks.\n",
    "    tflib.init_tf({'rnd.np_random_seed': seed})\n",
    "    print('Loading networks from \"%s\"...' % network_pkl)\n",
    "    with dnnlib.util.open_url(network_pkl) as fp:\n",
    "        _G, _D, Gs = pickle.load(fp)\n",
    "\n",
    "    # Load target image.\n",
    "    # files = [f for f in listdir(target_fname) if isfile(join(target_fname, f))]\n",
    "    # for i in range(len(files)):\n",
    "    # path = target_fname + files[i]\n",
    "    target_pil = PIL.Image.open(target_fname)\n",
    "    w, h = target_pil.size\n",
    "    s = min(w, h)\n",
    "    target_pil = target_pil.crop(((w - s) // 2, (h - s) // 2, (w + s) // 2, (h + s) // 2))\n",
    "    target_pil= target_pil.convert('RGB')\n",
    "    target_pil = target_pil.resize((Gs.output_shape[3], Gs.output_shape[2]), PIL.Image.ANTIALIAS)\n",
    "    target_uint8 = np.array(target_pil, dtype=np.uint8)\n",
    "    target_float = target_uint8.astype(np.float32).transpose([2, 0, 1]) * (2 / 255) - 1\n",
    "\n",
    "    # Initialize projector.\n",
    "    proj = projector.Projector()\n",
    "    proj.set_network(Gs)\n",
    "    proj.start([target_float])\n",
    "\n",
    "    # Setup output directory.\n",
    "    os.makedirs(outdir, exist_ok=True)\n",
    "    # target_pil.save(f'{outdir}/target.png')\n",
    "    writer = None\n",
    "    if save_video:\n",
    "        writer = imageio.get_writer(f'{outdir}/proj.mp4', mode='I', fps=60, codec='libx264', bitrate='16M')\n",
    "\n",
    "    # Run projector.\n",
    "    with tqdm.trange(proj.num_steps) as t:\n",
    "        for step in t:\n",
    "            assert step == proj.cur_step\n",
    "            if writer is not None:\n",
    "                writer.append_data(np.concatenate([target_uint8, proj.images_uint8[0]], axis=1))\n",
    "            dist, loss = proj.step()\n",
    "            t.set_postfix(dist=f'{dist[0]:.4f}', loss=f'{loss:.2f}')\n",
    "\n",
    "    # Save results.\n",
    "    # PIL.Image.fromarray(proj.images_uint8[0], 'RGB').save(f'{outdir}/proj.png')\n",
    "    np.savez('out/dlatents.npz', dlatents=proj.dlatents)\n",
    "    return proj.dlatents\n",
    "    if writer is not None:\n",
    "        writer.close()\n",
    "        \n"
   ]
  },
  {
   "cell_type": "code",
   "execution_count": 4,
   "metadata": {},
   "outputs": [
    {
     "name": "stdout",
     "output_type": "stream",
     "text": [
      "Loading networks from \"https://nvlabs-fi-cdn.nvidia.com/stylegan2-ada/pretrained/ffhq.pkl\"...\n",
      "Setting up TensorFlow plugin \"fused_bias_act.cu\": Loading... Done.\n",
      "Setting up TensorFlow plugin \"upfirdn_2d.cu\": Loading... Done.\n",
      "Projector: Computing W midpoint and stddev using 10000 samples...\n",
      "Projector: std = 10.0058\n",
      "Projector: Setting up noise inputs...\n",
      "Projector: Building image output graph...\n",
      "Projector: Building loss graph...\n",
      "Projector: Building noise regularization graph...\n",
      "Projector: Setting up optimizer...\n",
      "Projector: Preparing target images...\n",
      "Projector: Initializing optimization state...\n"
     ]
    },
    {
     "name": "stderr",
     "output_type": "stream",
     "text": [
      "100%|███████████████████████████████████████████████████████| 10/10 [00:45<00:00,  4.54s/it, dist=0.5358, loss=2360.51]\n"
     ]
    }
   ],
   "source": [
    "dlatent = project(network_pkl, \"images/002_02.png\", \"out/\", False, 303)"
   ]
  },
  {
   "cell_type": "code",
   "execution_count": 5,
   "metadata": {},
   "outputs": [
    {
     "data": {
      "text/plain": [
       "(1, 18, 512)"
      ]
     },
     "execution_count": 5,
     "metadata": {},
     "output_type": "execute_result"
    }
   ],
   "source": [
    "dlatent.shape"
   ]
  },
  {
   "cell_type": "code",
   "execution_count": 5,
   "metadata": {},
   "outputs": [],
   "source": [
    "tflib.init_tf({'rnd.np_random_seed': 303})\n",
    "with dnnlib.util.open_url(network_pkl) as fp:\n",
    "        _G, _D, Gs = pickle.load(fp)"
   ]
  },
  {
   "cell_type": "code",
   "execution_count": 13,
   "metadata": {},
   "outputs": [],
   "source": [
    "data = np.load('out/dlatents.npz')\n",
    "dlat = data[data.files[0]]"
   ]
  },
  {
   "cell_type": "code",
   "execution_count": 26,
   "metadata": {},
   "outputs": [],
   "source": [
    "image_float_expr = tf.cast(Gs.components.synthesis.get_output_for(dlat), tf.float32)\n",
    "images_uint8_expr = tflib.convert_images_to_uint8(image_float_expr, nchw_to_nhwc=True)[0]\n",
    "img = PIL.Image.fromarray(tflib.run(images_uint8_expr), 'RGB')"
   ]
  },
  {
   "cell_type": "code",
   "execution_count": 27,
   "metadata": {},
   "outputs": [],
   "source": [
    "img.show()"
   ]
  }
 ],
 "metadata": {
  "kernelspec": {
   "display_name": "Python 3",
   "language": "python",
   "name": "python3"
  },
  "language_info": {
   "codemirror_mode": {
    "name": "ipython",
    "version": 3
   },
   "file_extension": ".py",
   "mimetype": "text/x-python",
   "name": "python",
   "nbconvert_exporter": "python",
   "pygments_lexer": "ipython3",
   "version": "3.6.9"
  }
 },
 "nbformat": 4,
 "nbformat_minor": 4
}
